{
 "cells": [
  {
   "cell_type": "code",
   "execution_count": 157,
   "id": "3611c174-f238-4326-9528-cc8f247888b8",
   "metadata": {},
   "outputs": [],
   "source": [
    "# imports:"
   ]
  },
  {
   "cell_type": "code",
   "execution_count": 350,
   "id": "a546063b-feb9-4eb9-9038-4f83965e6105",
   "metadata": {},
   "outputs": [],
   "source": [
    "import numpy as np\n",
    "import pandas as pd\n",
    "import seaborn as sns\n",
    "from sklearn.ensemble import IsolationForest\n",
    "from sklearn.cluster import KMeans\n",
    "from sklearn.model_selection import train_test_split\n",
    "from sklearn.preprocessing import OneHotEncoder, LabelEncoder\n",
    "from sklearn.metrics import confusion_matrix, classification_report\n",
    "from ast import literal_eval # Transform/Parse a string-list into a proper list.\n",
    "import requests # GET requets to scrap a url/website\n",
    "from sklearn.neighbors import KNeighborsClassifier\n",
    "from sklearn.feature_selection import SelectKBest\n",
    "from sklearn.feature_selection import chi2\n",
    "from sklearn.ensemble import ExtraTreesClassifier\n",
    "from matplotlib import pyplot as plt\n",
    "from mpl_toolkits.mplot3d import Axes3D\n",
    "from sklearn.preprocessing import StandardScaler\n",
    "from sklearn.preprocessing import MinMaxScaler\n",
    "from sklearn import metrics\n",
    "import matplotlib.pyplot as plt # plotting\n",
    "import os # accessing directory structure\n",
    "from sklearn.feature_selection import SelectKBest\n",
    "from sklearn.feature_selection import chi2\n",
    "from sklearn.ensemble import RandomForestClassifier\n",
    "import warnings\n",
    "warnings.simplefilter(action=\"ignore\", category=FutureWarning)"
   ]
  },
  {
   "cell_type": "code",
   "execution_count": 351,
   "id": "e892a813-e99d-4cff-95b9-625d2cdbe3b3",
   "metadata": {},
   "outputs": [],
   "source": [
    "# data preprossesing:\n",
    "# first: loading the csv file into dataframe\n",
    "#     then, replacing each variable into number and by using minMaxScalar changing the vaues between 0-1\n",
    "#     dropping all the nan values"
   ]
  },
  {
   "cell_type": "code",
   "execution_count": 352,
   "id": "947f5b44-9c16-4562-8ccf-839317d56de5",
   "metadata": {},
   "outputs": [
    {
     "data": {
      "text/html": [
       "<div>\n",
       "<style scoped>\n",
       "    .dataframe tbody tr th:only-of-type {\n",
       "        vertical-align: middle;\n",
       "    }\n",
       "\n",
       "    .dataframe tbody tr th {\n",
       "        vertical-align: top;\n",
       "    }\n",
       "\n",
       "    .dataframe thead th {\n",
       "        text-align: right;\n",
       "    }\n",
       "</style>\n",
       "<table border=\"1\" class=\"dataframe\">\n",
       "  <thead>\n",
       "    <tr style=\"text-align: right;\">\n",
       "      <th></th>\n",
       "      <th>index</th>\n",
       "      <th>gender</th>\n",
       "      <th>age</th>\n",
       "      <th>hypertension</th>\n",
       "      <th>heart_disease</th>\n",
       "      <th>ever_married</th>\n",
       "      <th>work_type</th>\n",
       "      <th>avg_glucose_level</th>\n",
       "      <th>bmi</th>\n",
       "      <th>smoking_status</th>\n",
       "      <th>stroke</th>\n",
       "    </tr>\n",
       "  </thead>\n",
       "  <tbody>\n",
       "    <tr>\n",
       "      <th>0</th>\n",
       "      <td>0</td>\n",
       "      <td>0</td>\n",
       "      <td>0.816895</td>\n",
       "      <td>0</td>\n",
       "      <td>1</td>\n",
       "      <td>0</td>\n",
       "      <td>0</td>\n",
       "      <td>0.801265</td>\n",
       "      <td>36.6</td>\n",
       "      <td>4</td>\n",
       "      <td>1</td>\n",
       "    </tr>\n",
       "    <tr>\n",
       "      <th>1</th>\n",
       "      <td>2</td>\n",
       "      <td>0</td>\n",
       "      <td>0.975586</td>\n",
       "      <td>0</td>\n",
       "      <td>1</td>\n",
       "      <td>0</td>\n",
       "      <td>0</td>\n",
       "      <td>0.234512</td>\n",
       "      <td>32.5</td>\n",
       "      <td>1</td>\n",
       "      <td>1</td>\n",
       "    </tr>\n",
       "    <tr>\n",
       "      <th>2</th>\n",
       "      <td>3</td>\n",
       "      <td>1</td>\n",
       "      <td>0.597168</td>\n",
       "      <td>0</td>\n",
       "      <td>0</td>\n",
       "      <td>0</td>\n",
       "      <td>0</td>\n",
       "      <td>0.536008</td>\n",
       "      <td>34.4</td>\n",
       "      <td>2</td>\n",
       "      <td>1</td>\n",
       "    </tr>\n",
       "    <tr>\n",
       "      <th>3</th>\n",
       "      <td>4</td>\n",
       "      <td>1</td>\n",
       "      <td>0.963379</td>\n",
       "      <td>1</td>\n",
       "      <td>0</td>\n",
       "      <td>0</td>\n",
       "      <td>2</td>\n",
       "      <td>0.549349</td>\n",
       "      <td>24.0</td>\n",
       "      <td>1</td>\n",
       "      <td>1</td>\n",
       "    </tr>\n",
       "    <tr>\n",
       "      <th>4</th>\n",
       "      <td>5</td>\n",
       "      <td>0</td>\n",
       "      <td>0.987793</td>\n",
       "      <td>0</td>\n",
       "      <td>0</td>\n",
       "      <td>0</td>\n",
       "      <td>0</td>\n",
       "      <td>0.605161</td>\n",
       "      <td>29.0</td>\n",
       "      <td>4</td>\n",
       "      <td>1</td>\n",
       "    </tr>\n",
       "  </tbody>\n",
       "</table>\n",
       "</div>"
      ],
      "text/plain": [
       "   index  gender       age  hypertension  heart_disease  ever_married  \\\n",
       "0      0       0  0.816895             0              1             0   \n",
       "1      2       0  0.975586             0              1             0   \n",
       "2      3       1  0.597168             0              0             0   \n",
       "3      4       1  0.963379             1              0             0   \n",
       "4      5       0  0.987793             0              0             0   \n",
       "\n",
       "   work_type  avg_glucose_level   bmi  smoking_status  stroke  \n",
       "0          0           0.801265  36.6               4       1  \n",
       "1          0           0.234512  32.5               1       1  \n",
       "2          0           0.536008  34.4               2       1  \n",
       "3          2           0.549349  24.0               1       1  \n",
       "4          0           0.605161  29.0               4       1  "
      ]
     },
     "execution_count": 352,
     "metadata": {},
     "output_type": "execute_result"
    }
   ],
   "source": [
    "df = pd.read_csv ('data.csv')\n",
    "df[\"gender\"].replace({\"Male\":0,\"Female\":1,\"Other\":2}, inplace=True)\n",
    "df[\"ever_married\"].replace({\"Yes\":0,\"No\":1}, inplace=True)\n",
    "df[\"work_type\"].replace({\"Private\":0,\"Govt_job\":1,\"Self-employed\":2,\"children\":3,\"Never_worked\":4}, inplace=True)\n",
    "df[\"smoking_status\"].replace({\"formerly smoked\":0,\"never smoked\":1,\"smokes\":2,\"Unknown\":3,\"formerly smoked\":4}, inplace=True)\n",
    "\n",
    "df.drop('id', inplace=True, axis=1)\n",
    "df.drop('Residence_type', inplace=True, axis=1)\n",
    "\n",
    "\n",
    "scaler = MinMaxScaler()\n",
    "scaler.fit(df[['age']])\n",
    "df['age'] = scaler.transform(df[['age']])\n",
    "\n",
    "scaler.fit(df[['avg_glucose_level']])\n",
    "df['avg_glucose_level'] = scaler.transform(df[['avg_glucose_level']])\n",
    "\n",
    "\n",
    "\n",
    "df=df.rename(columns={'Unnamed: 0':'inx'})\n",
    "\n",
    "df = df.dropna()\n",
    "df = df.reset_index()\n",
    "\n",
    "df.head()\n"
   ]
  },
  {
   "cell_type": "code",
   "execution_count": 353,
   "id": "511ec1cf-9268-4ca8-bfcf-631ab3dbb801",
   "metadata": {},
   "outputs": [],
   "source": [
    "# feature selecting:\n",
    "#     by SelectKBest library, we choose the top five most significent features in the data and used them"
   ]
  },
  {
   "cell_type": "code",
   "execution_count": 354,
   "id": "60debd68-eeed-48f4-a259-bc1f046a3944",
   "metadata": {},
   "outputs": [
    {
     "name": "stdout",
     "output_type": "stream",
     "text": [
      "               Specs          Score\n",
      "0              index  508239.956331\n",
      "3       hypertension      90.543821\n",
      "4      heart_disease      88.779204\n",
      "2                age      38.452374\n",
      "5       ever_married      35.384105\n",
      "8                bmi      18.814363\n",
      "7  avg_glucose_level      17.198932\n",
      "6          work_type      11.740406\n",
      "1             gender       0.099242\n"
     ]
    }
   ],
   "source": [
    "X = df.iloc[:,0:9]  #independent columns\n",
    "y = df.iloc[:,-1]    #target column i.e price range\n",
    "\n",
    "bestfeatures = SelectKBest(score_func=chi2, k=5)\n",
    "fit = bestfeatures.fit(X,y)\n",
    "dfscores = pd.DataFrame(fit.scores_)\n",
    "dfcolumns = pd.DataFrame(X.columns)\n",
    "#concat two dataframes for better visualization \n",
    "featureScores = pd.concat([dfcolumns,dfscores],axis=1)\n",
    "featureScores.columns = ['Specs','Score']  #naming the dataframe columns\n",
    "print(featureScores.nlargest(9,'Score'))"
   ]
  },
  {
   "cell_type": "code",
   "execution_count": 355,
   "id": "5b914013-9725-471a-ae18-984b161f19a4",
   "metadata": {},
   "outputs": [],
   "source": [
    "# unbalanced data:"
   ]
  },
  {
   "cell_type": "code",
   "execution_count": 356,
   "id": "029c8d0f-6f2f-4c94-8955-56ee68934648",
   "metadata": {},
   "outputs": [
    {
     "name": "stdout",
     "output_type": "stream",
     "text": [
      "0    4700\n",
      "1     209\n",
      "Name: stroke, dtype: int64\n"
     ]
    },
    {
     "data": {
      "text/plain": [
       "<AxesSubplot:xlabel='stroke', ylabel='count'>"
      ]
     },
     "execution_count": 356,
     "metadata": {},
     "output_type": "execute_result"
    },
    {
     "data": {
      "image/png": "[encoded data removed]",
      "text/plain": [
       "<Figure size 432x288 with 1 Axes>"
      ]
     },
     "metadata": {
      "needs_background": "light"
     },
     "output_type": "display_data"
    }
   ],
   "source": [
    "print(df['stroke'].value_counts())\n",
    "sns.countplot(df['stroke'])"
   ]
  },
  {
   "cell_type": "code",
   "execution_count": 357,
   "id": "d1871f24-881a-434f-8f3b-647baff1f20a",
   "metadata": {},
   "outputs": [
    {
     "name": "stdout",
     "output_type": "stream",
     "text": [
      "(3681, 4) (3681,)\n",
      "(1228, 4) (1228,)\n",
      "Accuracy: 0.9405537459283387\n",
      "              precision    recall  f1-score   support\n",
      "\n",
      "           0       0.96      0.98      0.97      1176\n",
      "           1       0.11      0.06      0.08        52\n",
      "\n",
      "    accuracy                           0.94      1228\n",
      "   macro avg       0.54      0.52      0.52      1228\n",
      "weighted avg       0.92      0.94      0.93      1228\n",
      "\n"
     ]
    },
    {
     "data": {
      "image/png": "[encoded data removed]",
      "text/plain": [
       "<Figure size 432x288 with 2 Axes>"
      ]
     },
     "metadata": {
      "needs_background": "light"
     },
     "output_type": "display_data"
    }
   ],
   "source": [
    "index_list=['age','avg_glucose_level','ever_married','hypertension']\n",
    "label_type = 'stroke'\n",
    "\n",
    "stat_lis=[df[str(i)] for i in index_list]\n",
    "X=np.stack(stat_lis).T\n",
    "y = np.stack(df[label_type])\n",
    "X_train, X_test, y_train, y_test = train_test_split(X, y, \n",
    "                                                    test_size=0.25,  # train\n",
    "                                                    random_state=66, \n",
    "                                                    stratify=y)\n",
    "\n",
    "print(X_train.shape, y_train.shape)\n",
    "print(X_test.shape, y_test.shape)\n",
    "\n",
    "model = ExtraTreesClassifier(n_estimators= 150)\n",
    "model.fit(X_train, y_train)\n",
    "y_pred=model.predict(X_test)\n",
    "predictions = model.predict(X_test)\n",
    "true_labels = y_test\n",
    "cf_matrix = confusion_matrix(true_labels, predictions)\n",
    "print(\"Accuracy:\",metrics.accuracy_score(y_test, y_pred))\n",
    "heatmap = sns.heatmap(cf_matrix, annot=True, cmap='Blues', fmt='g', \n",
    "                      xticklabels=np.unique(true_labels), \n",
    "                      yticklabels=np.unique(true_labels)) \n",
    "print(classification_report(true_labels, predictions))\n"
   ]
  },
  {
   "cell_type": "code",
   "execution_count": 358,
   "id": "e011dc5a-1129-45c1-98be-cff6e29cce2b",
   "metadata": {},
   "outputs": [],
   "source": [
    "# resampelling the data to create a balanced one by using resample:"
   ]
  },
  {
   "cell_type": "code",
   "execution_count": 402,
   "id": "6482750b-9f43-42a7-98ca-38f0b67a6173",
   "metadata": {},
   "outputs": [
    {
     "name": "stdout",
     "output_type": "stream",
     "text": [
      "(6090, 5) (6090,)\n",
      "(2680, 5) (2680,)\n"
     ]
    },
    {
     "data": {
      "image/png": "[encoded data removed]",
      "text/plain": [
       "<Figure size 432x288 with 1 Axes>"
      ]
     },
     "metadata": {
      "needs_background": "light"
     },
     "output_type": "display_data"
    }
   ],
   "source": [
    "from sklearn.utils import resample\n",
    "#create two different dataframe of majority and minority class \n",
    "df_majority = df[(df['stroke']==0)] \n",
    "df_minority = df[(df['stroke']==1)] \n",
    "\n",
    "df_minority = df_minority.reset_index()\n",
    "df_minority1 = df_minority.loc[df_minority['level_0'] >= 70]\n",
    "df_minority2 = df_minority.loc[df_minority['level_0'] < 70]\n",
    "\n",
    "# upsample minority class\n",
    "df_minority_upsampled = resample(df_minority1, \n",
    "                                 replace=True,    # sample with replacement\n",
    "                                 n_samples= 4000, # to match majority class\n",
    "                                 random_state=66)  # reproducible results\n",
    "\n",
    "\n",
    "df_upsampled = pd.concat([df_minority_upsampled, df_majority])\n",
    "\n",
    "df_upsampled['stroke'].value_counts()\n",
    "sns.countplot(df_upsampled['stroke'])\n",
    "\n",
    "index_list=['heart_disease','age','avg_glucose_level','ever_married','hypertension']\n",
    "label_type = 'stroke'\n",
    "stat_lis=[df_upsampled[str(i)] for i in index_list]\n",
    "X=np.stack(stat_lis).T\n",
    "y = np.stack(df_upsampled[label_type])\n",
    "X_train, X_test, y_train, y_test = train_test_split(X, y, \n",
    "                                                    test_size=0.30,  # train\n",
    "                                                    random_state=66)\n",
    "\n",
    "stat_lis=[df_minority2[str(i)] for i in index_list]\n",
    "X2=np.stack(stat_lis).T\n",
    "arr = np.asarray(X2)\n",
    "X_test = np.concatenate((arr,X_test), axis=0)\n",
    "y2 = np.stack(df_minority2[label_type])\n",
    "arr = np.asarray(y2)\n",
    "y_test = np.concatenate((arr,y_test), axis=0)\n",
    "\n",
    "\n",
    "\n",
    "\n",
    "\n",
    "\n",
    "print(X_train.shape, y_train.shape)\n",
    "print(X_test.shape, y_test.shape)"
   ]
  },
  {
   "cell_type": "code",
   "execution_count": 403,
   "id": "f148febf-351e-4cc3-8a29-3adb08173780",
   "metadata": {},
   "outputs": [],
   "source": [
    "# first model: extraTree"
   ]
  },
  {
   "cell_type": "code",
   "execution_count": 404,
   "id": "2e00a064-2e2b-4d5d-a1ce-831be02ec368",
   "metadata": {},
   "outputs": [
    {
     "name": "stdout",
     "output_type": "stream",
     "text": [
      "Accuracy: 0.9880459770114942\n",
      "              precision    recall  f1-score   support\n",
      "\n",
      "           0       1.00      0.98      0.99      1175\n",
      "           1       0.97      1.00      0.99      1000\n",
      "\n",
      "    accuracy                           0.99      2175\n",
      "   macro avg       0.99      0.99      0.99      2175\n",
      "weighted avg       0.99      0.99      0.99      2175\n",
      "\n"
     ]
    },
    {
     "data": {
      "image/png": "[encoded data removed]",
      "text/plain": [
       "<Figure size 432x288 with 2 Axes>"
      ]
     },
     "metadata": {
      "needs_background": "light"
     },
     "output_type": "display_data"
    }
   ],
   "source": [
    "\n",
    "\n",
    "stat_lis=[df_upsampled[str(i)] for i in index_list]\n",
    "X=np.stack(stat_lis).T\n",
    "y = np.stack(df_upsampled[label_type])\n",
    "\n",
    "X_train, X_test, y_train, y_test = train_test_split(X, y, \n",
    "                                                    test_size=0.25,  # train\n",
    "                                                    random_state=66,stratify=y)\n",
    "\n",
    "model = ExtraTreesClassifier(n_estimators= 150)\n",
    "model.fit(X_train, y_train)\n",
    "y_pred=model.predict(X_test)\n",
    "predictions = model.predict(X_test)\n",
    "true_labels = y_test\n",
    "cf_matrix = confusion_matrix(true_labels, predictions)\n",
    "print(\"Accuracy:\",metrics.accuracy_score(y_test, y_pred))\n",
    "heatmap = sns.heatmap(cf_matrix, annot=True, cmap='Blues', fmt='g', \n",
    "                      xticklabels=np.unique(true_labels), \n",
    "                      yticklabels=np.unique(true_labels)) \n",
    "print(classification_report(true_labels, predictions))"
   ]
  },
  {
   "cell_type": "code",
   "execution_count": 405,
   "id": "794f08ca-d16a-4743-a6b4-145b5bd0c198",
   "metadata": {},
   "outputs": [],
   "source": [
    "# second model: KNeighborsClassifier, using k=4"
   ]
  },
  {
   "cell_type": "code",
   "execution_count": 406,
   "id": "8e14fac2-5975-4999-bf8b-662e4f1268ca",
   "metadata": {},
   "outputs": [
    {
     "name": "stdout",
     "output_type": "stream",
     "text": [
      "Accuracy: 0.9586206896551724\n",
      "[[1085   90]\n",
      " [   0 1000]]\n",
      "              precision    recall  f1-score   support\n",
      "\n",
      "           0       1.00      0.92      0.96      1175\n",
      "           1       0.92      1.00      0.96      1000\n",
      "\n",
      "    accuracy                           0.96      2175\n",
      "   macro avg       0.96      0.96      0.96      2175\n",
      "weighted avg       0.96      0.96      0.96      2175\n",
      "\n"
     ]
    },
    {
     "data": {
      "image/png": "[encoded data removed]",
      "text/plain": [
       "<Figure size 432x288 with 2 Axes>"
      ]
     },
     "metadata": {
      "needs_background": "light"
     },
     "output_type": "display_data"
    }
   ],
   "source": [
    "scaler = StandardScaler()\n",
    "scaler.fit(X_train)\n",
    "from sklearn.neighbors import KNeighborsClassifier\n",
    "classifier = KNeighborsClassifier(n_neighbors=4)\n",
    "classifier.fit(X_train, y_train)\n",
    "y_pred = classifier.predict(X_test)\n",
    "from sklearn.metrics import classification_report, confusion_matrix\n",
    "print(\"Accuracy:\",metrics.accuracy_score(y_test, y_pred))\n",
    "cf_matrix = confusion_matrix(y_test, y_pred)\n",
    "heatma = sns.heatmap(cf_matrix, annot=True, cmap='Blues', fmt='g', \n",
    "                      xticklabels=np.unique(y_test), \n",
    "                      yticklabels=np.unique(y_test)) \n",
    "print(confusion_matrix(y_test, y_pred))\n",
    "print(classification_report(y_test, y_pred))"
   ]
  },
  {
   "cell_type": "code",
   "execution_count": 407,
   "id": "ee303149-7e14-4312-ab32-ec134ebe0bc9",
   "metadata": {},
   "outputs": [],
   "source": [
    "# third model: RandomForest"
   ]
  },
  {
   "cell_type": "markdown",
   "id": "e11e29ac-1a71-4969-ae41-a6729afab0b5",
   "metadata": {},
   "source": [
    "#### "
   ]
  },
  {
   "cell_type": "code",
   "execution_count": 408,
   "id": "c8d2960a-d361-4ccc-ba65-fcd3311b3cd7",
   "metadata": {},
   "outputs": [
    {
     "name": "stdout",
     "output_type": "stream",
     "text": [
      "Accuracy: 0.9875862068965517\n",
      "[[1148   27]\n",
      " [   0 1000]]\n",
      "              precision    recall  f1-score   support\n",
      "\n",
      "           0       1.00      0.98      0.99      1175\n",
      "           1       0.97      1.00      0.99      1000\n",
      "\n",
      "    accuracy                           0.99      2175\n",
      "   macro avg       0.99      0.99      0.99      2175\n",
      "weighted avg       0.99      0.99      0.99      2175\n",
      "\n"
     ]
    },
    {
     "data": {
      "image/png": "[encoded data removed]",
      "text/plain": [
       "<Figure size 432x288 with 2 Axes>"
      ]
     },
     "metadata": {
      "needs_background": "light"
     },
     "output_type": "display_data"
    }
   ],
   "source": [
    "model=RandomForestClassifier(n_estimators=100)\n",
    "model.fit(X_train,y_train)\n",
    "y_pred=model.predict(X_test)\n",
    "print(\"Accuracy:\",metrics.accuracy_score(y_test, y_pred))\n",
    "cf_matrix = confusion_matrix(y_test, y_pred)\n",
    "heatma = sns.heatmap(cf_matrix, annot=True, cmap='Blues', fmt='g', \n",
    "                      xticklabels=np.unique(y_test), \n",
    "                      yticklabels=np.unique(y_test)) \n",
    "print(confusion_matrix(y_test, y_pred))\n",
    "print(classification_report(y_test, y_pred))"
   ]
  },
  {
   "cell_type": "code",
   "execution_count": 409,
   "id": "e8eeff2b-50f3-4dec-98f4-ce81eaafcec9",
   "metadata": {},
   "outputs": [],
   "source": [
    "# forth: XGBClassifier"
   ]
  },
  {
   "cell_type": "code",
   "execution_count": 410,
   "id": "8a41b51a-f906-46e9-9d01-35a54dbc2330",
   "metadata": {},
   "outputs": [
    {
     "name": "stdout",
     "output_type": "stream",
     "text": [
      "Accuracy: 0.9825287356321839\n",
      "[[1137   38]\n",
      " [   0 1000]]\n",
      "              precision    recall  f1-score   support\n",
      "\n",
      "           0       1.00      0.97      0.98      1175\n",
      "           1       0.96      1.00      0.98      1000\n",
      "\n",
      "    accuracy                           0.98      2175\n",
      "   macro avg       0.98      0.98      0.98      2175\n",
      "weighted avg       0.98      0.98      0.98      2175\n",
      "\n"
     ]
    },
    {
     "data": {
      "image/png": "[encoded data removed]",
      "text/plain": [
       "<Figure size 432x288 with 2 Axes>"
      ]
     },
     "metadata": {
      "needs_background": "light"
     },
     "output_type": "display_data"
    }
   ],
   "source": [
    "\n",
    "from xgboost import XGBClassifier\n",
    "from sklearn.metrics import accuracy_score\n",
    "\n",
    "model = XGBClassifier()\n",
    "model.fit(X_train,y_train)\n",
    "y_pred=model.predict(X_test)\n",
    "print(\"Accuracy:\",metrics.accuracy_score(y_test, y_pred))\n",
    "cf_matrix = confusion_matrix(y_test, y_pred)\n",
    "heatma = sns.heatmap(cf_matrix, annot=True, cmap='Blues', fmt='g', \n",
    "                      xticklabels=np.unique(y_test), \n",
    "                      yticklabels=np.unique(y_test)) \n",
    "print(confusion_matrix(y_test, y_pred))\n",
    "print(classification_report(y_test, y_pred))\n"
   ]
  },
  {
   "cell_type": "code",
   "execution_count": null,
   "id": "c4f39fe3-d83b-4dbc-ba89-9469b6e1fe1a",
   "metadata": {},
   "outputs": [],
   "source": []
  }
 ],
 "metadata": {
  "kernelspec": {
   "display_name": "Python 3",
   "language": "python",
   "name": "python3"
  },
  "language_info": {
   "codemirror_mode": {
    "name": "ipython",
    "version": 3
   },
   "file_extension": ".py",
   "mimetype": "text/x-python",
   "name": "python",
   "nbconvert_exporter": "python",
   "pygments_lexer": "ipython3",
   "version": "3.8.8"
  }
 },
 "nbformat": 4,
 "nbformat_minor": 5
}
